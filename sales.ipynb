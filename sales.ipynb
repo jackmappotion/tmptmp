{
 "cells": [
  {
   "cell_type": "code",
   "execution_count": 2,
   "metadata": {},
   "outputs": [],
   "source": [
    "import pandas as pd"
   ]
  },
  {
   "cell_type": "code",
   "execution_count": 3,
   "metadata": {},
   "outputs": [],
   "source": [
    "raw_sales_df = pd.read_csv('./data/seoul/sales.csv', encoding='cp949')"
   ]
  },
  {
   "cell_type": "code",
   "execution_count": 4,
   "metadata": {},
   "outputs": [],
   "source": [
    "sales_df = raw_sales_df.copy()"
   ]
  },
  {
   "cell_type": "code",
   "execution_count": 15,
   "metadata": {},
   "outputs": [
    {
     "data": {
      "text/html": [
       "<div>\n",
       "<style scoped>\n",
       "    .dataframe tbody tr th:only-of-type {\n",
       "        vertical-align: middle;\n",
       "    }\n",
       "\n",
       "    .dataframe tbody tr th {\n",
       "        vertical-align: top;\n",
       "    }\n",
       "\n",
       "    .dataframe thead th {\n",
       "        text-align: right;\n",
       "    }\n",
       "</style>\n",
       "<table border=\"1\" class=\"dataframe\">\n",
       "  <thead>\n",
       "    <tr style=\"text-align: right;\">\n",
       "      <th></th>\n",
       "      <th>기준_년분기_코드</th>\n",
       "      <th>상권_구분_코드</th>\n",
       "      <th>상권_구분_코드_명</th>\n",
       "      <th>상권_코드</th>\n",
       "      <th>상권_코드_명</th>\n",
       "      <th>서비스_업종_코드</th>\n",
       "      <th>서비스_업종_코드_명</th>\n",
       "      <th>당월_매출_금액</th>\n",
       "      <th>당월_매출_건수</th>\n",
       "      <th>주중_매출_금액</th>\n",
       "      <th>...</th>\n",
       "      <th>시간대_건수~21_매출_건수</th>\n",
       "      <th>시간대_건수~24_매출_건수</th>\n",
       "      <th>남성_매출_건수</th>\n",
       "      <th>여성_매출_건수</th>\n",
       "      <th>연령대_10_매출_건수</th>\n",
       "      <th>연령대_20_매출_건수</th>\n",
       "      <th>연령대_30_매출_건수</th>\n",
       "      <th>연령대_40_매출_건수</th>\n",
       "      <th>연령대_50_매출_건수</th>\n",
       "      <th>연령대_60_이상_매출_건수</th>\n",
       "    </tr>\n",
       "  </thead>\n",
       "  <tbody>\n",
       "    <tr>\n",
       "      <th>0</th>\n",
       "      <td>20231</td>\n",
       "      <td>A</td>\n",
       "      <td>골목상권</td>\n",
       "      <td>3110001</td>\n",
       "      <td>이북5도청사</td>\n",
       "      <td>CS100001</td>\n",
       "      <td>한식음식점</td>\n",
       "      <td>405545335</td>\n",
       "      <td>9975</td>\n",
       "      <td>231456447</td>\n",
       "      <td>...</td>\n",
       "      <td>3090</td>\n",
       "      <td>211</td>\n",
       "      <td>5754</td>\n",
       "      <td>3067</td>\n",
       "      <td>38</td>\n",
       "      <td>290</td>\n",
       "      <td>922</td>\n",
       "      <td>1463</td>\n",
       "      <td>2578</td>\n",
       "      <td>3531</td>\n",
       "    </tr>\n",
       "    <tr>\n",
       "      <th>1</th>\n",
       "      <td>20231</td>\n",
       "      <td>A</td>\n",
       "      <td>골목상권</td>\n",
       "      <td>3110001</td>\n",
       "      <td>이북5도청사</td>\n",
       "      <td>CS100008</td>\n",
       "      <td>분식전문점</td>\n",
       "      <td>117335358</td>\n",
       "      <td>10989</td>\n",
       "      <td>69547384</td>\n",
       "      <td>...</td>\n",
       "      <td>923</td>\n",
       "      <td>0</td>\n",
       "      <td>5672</td>\n",
       "      <td>4534</td>\n",
       "      <td>74</td>\n",
       "      <td>632</td>\n",
       "      <td>1369</td>\n",
       "      <td>2286</td>\n",
       "      <td>3454</td>\n",
       "      <td>2390</td>\n",
       "    </tr>\n",
       "    <tr>\n",
       "      <th>2</th>\n",
       "      <td>20231</td>\n",
       "      <td>A</td>\n",
       "      <td>골목상권</td>\n",
       "      <td>3110001</td>\n",
       "      <td>이북5도청사</td>\n",
       "      <td>CS100009</td>\n",
       "      <td>호프-간이주점</td>\n",
       "      <td>19577767</td>\n",
       "      <td>370</td>\n",
       "      <td>13115990</td>\n",
       "      <td>...</td>\n",
       "      <td>199</td>\n",
       "      <td>157</td>\n",
       "      <td>219</td>\n",
       "      <td>109</td>\n",
       "      <td>0</td>\n",
       "      <td>18</td>\n",
       "      <td>23</td>\n",
       "      <td>59</td>\n",
       "      <td>124</td>\n",
       "      <td>105</td>\n",
       "    </tr>\n",
       "    <tr>\n",
       "      <th>3</th>\n",
       "      <td>20231</td>\n",
       "      <td>A</td>\n",
       "      <td>골목상권</td>\n",
       "      <td>3110001</td>\n",
       "      <td>이북5도청사</td>\n",
       "      <td>CS200001</td>\n",
       "      <td>일반교습학원</td>\n",
       "      <td>47135947</td>\n",
       "      <td>136</td>\n",
       "      <td>47135947</td>\n",
       "      <td>...</td>\n",
       "      <td>72</td>\n",
       "      <td>0</td>\n",
       "      <td>96</td>\n",
       "      <td>40</td>\n",
       "      <td>0</td>\n",
       "      <td>0</td>\n",
       "      <td>8</td>\n",
       "      <td>120</td>\n",
       "      <td>8</td>\n",
       "      <td>0</td>\n",
       "    </tr>\n",
       "    <tr>\n",
       "      <th>4</th>\n",
       "      <td>20231</td>\n",
       "      <td>A</td>\n",
       "      <td>골목상권</td>\n",
       "      <td>3110002</td>\n",
       "      <td>독립문역 1번</td>\n",
       "      <td>CS100001</td>\n",
       "      <td>한식음식점</td>\n",
       "      <td>452192952</td>\n",
       "      <td>18282</td>\n",
       "      <td>364090632</td>\n",
       "      <td>...</td>\n",
       "      <td>4190</td>\n",
       "      <td>491</td>\n",
       "      <td>9732</td>\n",
       "      <td>7751</td>\n",
       "      <td>0</td>\n",
       "      <td>1027</td>\n",
       "      <td>2220</td>\n",
       "      <td>3501</td>\n",
       "      <td>4256</td>\n",
       "      <td>6477</td>\n",
       "    </tr>\n",
       "  </tbody>\n",
       "</table>\n",
       "<p>5 rows × 55 columns</p>\n",
       "</div>"
      ],
      "text/plain": [
       "   기준_년분기_코드 상권_구분_코드 상권_구분_코드_명    상권_코드  상권_코드_명 서비스_업종_코드 서비스_업종_코드_명  \\\n",
       "0      20231        A       골목상권  3110001   이북5도청사  CS100001       한식음식점   \n",
       "1      20231        A       골목상권  3110001   이북5도청사  CS100008       분식전문점   \n",
       "2      20231        A       골목상권  3110001   이북5도청사  CS100009     호프-간이주점   \n",
       "3      20231        A       골목상권  3110001   이북5도청사  CS200001      일반교습학원   \n",
       "4      20231        A       골목상권  3110002  독립문역 1번  CS100001       한식음식점   \n",
       "\n",
       "    당월_매출_금액  당월_매출_건수   주중_매출_금액  ...  시간대_건수~21_매출_건수  시간대_건수~24_매출_건수  \\\n",
       "0  405545335      9975  231456447  ...             3090              211   \n",
       "1  117335358     10989   69547384  ...              923                0   \n",
       "2   19577767       370   13115990  ...              199              157   \n",
       "3   47135947       136   47135947  ...               72                0   \n",
       "4  452192952     18282  364090632  ...             4190              491   \n",
       "\n",
       "   남성_매출_건수  여성_매출_건수  연령대_10_매출_건수  연령대_20_매출_건수  연령대_30_매출_건수  연령대_40_매출_건수  \\\n",
       "0      5754      3067            38           290           922          1463   \n",
       "1      5672      4534            74           632          1369          2286   \n",
       "2       219       109             0            18            23            59   \n",
       "3        96        40             0             0             8           120   \n",
       "4      9732      7751             0          1027          2220          3501   \n",
       "\n",
       "   연령대_50_매출_건수  연령대_60_이상_매출_건수  \n",
       "0          2578             3531  \n",
       "1          3454             2390  \n",
       "2           124              105  \n",
       "3             8                0  \n",
       "4          4256             6477  \n",
       "\n",
       "[5 rows x 55 columns]"
      ]
     },
     "execution_count": 15,
     "metadata": {},
     "output_type": "execute_result"
    }
   ],
   "source": [
    "sales_df.head()"
   ]
  },
  {
   "cell_type": "code",
   "execution_count": 5,
   "metadata": {},
   "outputs": [],
   "source": [
    "# 1. 당월 매출 금액이 가장 큰 업종\n",
    "#     1. 당월 매출 금액이 가장 큰 업종 n 개"
   ]
  },
  {
   "cell_type": "code",
   "execution_count": 6,
   "metadata": {},
   "outputs": [],
   "source": [
    "# 2. 당월 매출 건수가 가장 큰 업종\n",
    "#     1. 당월 매출 건수가 가장 큰 업종 n 개"
   ]
  },
  {
   "cell_type": "code",
   "execution_count": 7,
   "metadata": {},
   "outputs": [],
   "source": [
    "# 3. 객단가가 높은 업종\n",
    "#     1. 객단가가 높은 업종 n개\n",
    "# 당월 매출 금액 / 당월 매출 건수"
   ]
  },
  {
   "cell_type": "code",
   "execution_count": 8,
   "metadata": {},
   "outputs": [],
   "source": [
    "# 1. 남성 매출이 더 큰 업종\n",
    "#     1. 여성 대비 남성 매출이 가장 큰 업종"
   ]
  },
  {
   "cell_type": "code",
   "execution_count": 9,
   "metadata": {},
   "outputs": [],
   "source": [
    "# 1. 여성 매출이 더 큰 업종\n",
    "#     1. 남성 대비 여성 매출이 가장 큰 업종"
   ]
  },
  {
   "cell_type": "code",
   "execution_count": 10,
   "metadata": {},
   "outputs": [],
   "source": [
    "# 1. 10 ~ 30의 매출이 절반 이상을 차지하는 업종\n",
    "# 2. 40 ~ 의 매출이 절반 이상을 차지하는 업종"
   ]
  },
  {
   "cell_type": "code",
   "execution_count": 11,
   "metadata": {},
   "outputs": [],
   "source": [
    "# 1. 평일 매출이 더 큰 업종\n",
    "#     1. 평일 매출이 5/7을 넘어가는 업종"
   ]
  },
  {
   "cell_type": "code",
   "execution_count": 12,
   "metadata": {},
   "outputs": [],
   "source": [
    "# 1. 매출 금액이 증가 추세인 업종"
   ]
  },
  {
   "cell_type": "code",
   "execution_count": 13,
   "metadata": {},
   "outputs": [],
   "source": [
    "# 2. 매출 건수가 증가 추세인 업종\n"
   ]
  },
  {
   "cell_type": "code",
   "execution_count": 14,
   "metadata": {},
   "outputs": [],
   "source": [
    "# 3. 둘다 증가 추세인 업종\n"
   ]
  }
 ],
 "metadata": {
  "kernelspec": {
   "display_name": "quant_trading",
   "language": "python",
   "name": "python3"
  },
  "language_info": {
   "codemirror_mode": {
    "name": "ipython",
    "version": 3
   },
   "file_extension": ".py",
   "mimetype": "text/x-python",
   "name": "python",
   "nbconvert_exporter": "python",
   "pygments_lexer": "ipython3",
   "version": "3.10.13"
  }
 },
 "nbformat": 4,
 "nbformat_minor": 2
}
